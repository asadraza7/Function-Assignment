{
 "cells": [
  {
   "cell_type": "markdown",
   "id": "7e96a452-6536-4bb0-a474-0df18f3161f8",
   "metadata": {
    "tags": []
   },
   "source": [
    "(Q)1)What is the difference between a function and a method in Python?\n",
    "\n",
    "#(Ans):-\n",
    "The difference between a function and a method in python are :\n",
    "\n",
    "(.)Function are a block of code which perform some specific task or computation.\n",
    "\n",
    "example:-\n",
    "print,len,type\n",
    "\n",
    "(.)Method are a way of executing code ."
   ]
  },
  {
   "cell_type": "markdown",
   "id": "163acfde-f68d-4a94-8890-dde9e6e4cd89",
   "metadata": {
    "tags": []
   },
   "source": [
    "(Q)2)Explain the concept of function arguments and parameters in Python.\n",
    "\n",
    "#(Ans):-\n",
    "(.)In python,an argument is the value that passed when it's called.\n",
    " \n",
    "(.)In python , parameter is similar to an argument.Parameter is nothing,it is parenthesis and it define in round bracket.Parameter is variable that is defin inside round bracket in the \"def\" line.\n",
    "\n",
    "#Example:-\n",
    "def add(a,b):\n",
    "   return a+b\n"
   ]
  },
  {
   "cell_type": "markdown",
   "id": "edbdd82c-b05d-48e8-84a3-4b6942c635be",
   "metadata": {
    "tags": []
   },
   "source": [
    "(Q)3)What are the different ways to define and call a function in Python?\n",
    "\n",
    "#(Ans):-\n",
    "Function are of two type name (1) Builtin function (2)User define function.\n",
    "\n",
    "(1)Builtin function are predfined function like:-list,len,type,count,etc..\n",
    "(2)User define function are that type of function which is defined firstly by using keyword \"def\" .It is also known as general function which use \"return statement\".\n",
    "\n",
    "Example:-\n",
    "def sq(x,y):\n",
    "    return x*y\n",
    "sq(10,2) "
   ]
  },
  {
   "cell_type": "markdown",
   "id": "083130a7-b4fe-40cd-be97-53e38cf4e14f",
   "metadata": {},
   "source": [
    "(Q)4)What is the purpose of the `return` statement in a Python function?\n",
    "\n",
    "#(Ans):-The purpose of return statement in python is that the return statement is use to execute result of that variable that are present inside in parenthesis in the def line of python.\n",
    "\n",
    "In simple word , Return statement is nothing it is just the output of the function that are define in the def line word.\n",
    "\n",
    "#Expample:-\n",
    "def sub(x,y):\n",
    "   return(x-y)\n",
    "sub(20,10)\n",
    ">>10\n"
   ]
  },
  {
   "cell_type": "markdown",
   "id": "c3b3ea1f-3c2e-4b01-8359-045e79db609c",
   "metadata": {},
   "source": [
    "(Q)5) What are iterators in Python and how do they differ from iterables?\n",
    "\n",
    "#(Ans):-\n",
    "(.)Middle part of iteration process is known as iterator \n",
    "\n",
    "#Example:-\n",
    "Potato is choped and washed that is ready for cooking.Choped and wash are the middle part similarly iterator are middle part that are ready for iteration.\n",
    "\n",
    "(.)Iterable are the data structure taht are capable of executing its member one at a time. \n",
    "#Example:-\n",
    "list,tuple,dict,etc..\n",
    "\n",
    "And the only data structure that is not iterable its name is \"String\"."
   ]
  },
  {
   "cell_type": "markdown",
   "id": "03f8dd02-aafa-43b6-95db-481dc270c733",
   "metadata": {},
   "source": [
    "(Q)6)Explain the concept of generators in Python and how they are defined.\n",
    "\n",
    "#(Ans):-\n",
    "Generator is similar to iterator .General function use return statement but Generator function use yield statement so that it get ready for generating the result one by one.\n",
    "\n",
    "They are defined \n",
    "by using,\"yield statement\".\n",
    "\n",
    "#Example:-\n",
    "def sq(a):\n",
    "   for i in range(a):\n",
    "       yield a**2\n",
    "sq(10)\n"
   ]
  },
  {
   "cell_type": "markdown",
   "id": "402c6ede-1283-401d-bca5-d4eed543c615",
   "metadata": {
    "tags": []
   },
   "source": [
    "(Q)7)What are the advantages of using generators over regular functions?\n",
    "\n",
    "#(Ans):-The advantages is using generators function over regular function is that \n",
    "(.)The generator function use yield statement and  General function use return statement .\n",
    "\n",
    "(.)By using general function we can create an generator similar to an iterator object and it give output one by one and not in one go .\n",
    "#Example:-\n",
    "def sq_num(n):\n",
    "   for i in range(n):\n",
    "      yield i**2\n",
    "sq_num(5)\n",
    "\n",
    "#Example:-\n",
    "def add(x,y):\n",
    "   return a+b\n",
    "add(20,30)      "
   ]
  },
  {
   "cell_type": "markdown",
   "id": "b8146125-350a-4109-abc5-f0bf3ea82e1f",
   "metadata": {},
   "source": [
    "(Q)8)What is a lambda function in Python and when is it typically used?\n",
    "\n",
    "#(Ans):-Lambda function is an anonymous or short hand function.It does not use any return statement and def keyword.It simply store in variable.\n",
    "#Syntax:-\n",
    "lambda argument:expression.\n",
    "\n",
    "#Example:-\n",
    "sq=lambda x:x**2\n",
    "sq(7)\n",
    "\n",
    "It is used when user want to write code in shortly."
   ]
  },
  {
   "cell_type": "markdown",
   "id": "03fefa36-ec76-4fe7-ab0c-1d51283d2a22",
   "metadata": {},
   "source": [
    "(Q)9)Explain the purpose and usage of the `map()` function in Python.\n",
    "\n",
    "#(Ans):-\n",
    "The purpose of map function is that map function execute a function for each of the item that are iterable.\n",
    "#Syntax:-\n",
    "map(function,iterable)\n"
   ]
  },
  {
   "cell_type": "markdown",
   "id": "df03b878-6b67-44bc-a37d-fa4d0f8d46e5",
   "metadata": {},
   "source": [
    "(Q)10)What is the difference between `map()`, `reduce()`, and `filter()` functions in Python?\n",
    "\n",
    "#(Ans):-The difference between is:\n",
    "(.) Map function execute a function for each of the item that are iterable.\n",
    "#syntax:-\n",
    "map(function,iterable)\n",
    "\n",
    "(.)Reduce function are add the list and print single result.In simple word,It mean reducing or folding the element in one form.\n",
    "\n",
    "#syntax:-\n",
    "reduce(function,iterable)\n",
    "\n",
    "(.)filter function are used to filter the elements based on some condition\n",
    "\n",
    "#syntax:-\n",
    "filter(function,iterable).\n",
    "\n"
   ]
  },
  {
   "cell_type": "markdown",
   "id": "4b23c825-4ef1-4cf5-a189-75a23856b161",
   "metadata": {},
   "source": [
    "(Q)11)"
   ]
  },
  {
   "cell_type": "markdown",
   "id": "025dcd56-c747-460b-91c0-768bc114224c",
   "metadata": {},
   "source": [
    "https://in.docworkspace.com/d/sIETjhrj-AeTgjLUG"
   ]
  }
 ],
 "metadata": {
  "kernelspec": {
   "display_name": "Python 3 (ipykernel)",
   "language": "python",
   "name": "python3"
  },
  "language_info": {
   "codemirror_mode": {
    "name": "ipython",
    "version": 3
   },
   "file_extension": ".py",
   "mimetype": "text/x-python",
   "name": "python",
   "nbconvert_exporter": "python",
   "pygments_lexer": "ipython3",
   "version": "3.10.8"
  }
 },
 "nbformat": 4,
 "nbformat_minor": 5
}
